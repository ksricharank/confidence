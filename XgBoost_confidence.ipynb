{
  "nbformat": 4,
  "nbformat_minor": 0,
  "metadata": {
    "colab": {
      "name": "XgBoost_confidence.ipynb",
      "provenance": [],
      "collapsed_sections": [],
      "toc_visible": true,
      "mount_file_id": "1YB08w2zY-aT6lFTbO2pQFt211VcDCuhw",
      "authorship_tag": "ABX9TyOl4vSj1pcyjyq5bkS3dAuI",
      "include_colab_link": true
    },
    "kernelspec": {
      "display_name": "Python 3",
      "name": "python3"
    }
  },
  "cells": [
    {
      "cell_type": "markdown",
      "metadata": {
        "id": "view-in-github",
        "colab_type": "text"
      },
      "source": [
        "<a href=\"https://colab.research.google.com/github/ksricharank/confidence/blob/master/XgBoost_confidence.ipynb\" target=\"_parent\"><img src=\"https://colab.research.google.com/assets/colab-badge.svg\" alt=\"Open In Colab\"/></a>"
      ]
    },
    {
      "cell_type": "code",
      "metadata": {
        "colab": {
          "base_uri": "https://localhost:8080/"
        },
        "id": "OlbAZ97jAUAT",
        "outputId": "e7c59ab3-c603-4a21-8c65-df727bf8aac1"
      },
      "source": [
        "import os, sys\n",
        "from google.colab import drive\n",
        "drive.mount('/content/drive')"
      ],
      "execution_count": 3,
      "outputs": [
        {
          "output_type": "stream",
          "text": [
            "Drive already mounted at /content/drive; to attempt to forcibly remount, call drive.mount(\"/content/drive\", force_remount=True).\n"
          ],
          "name": "stdout"
        }
      ]
    },
    {
      "cell_type": "code",
      "metadata": {
        "colab": {
          "base_uri": "https://localhost:8080/"
        },
        "id": "oABbPo4gAU6g",
        "outputId": "cfbf938f-d056-4c3c-94bd-68016facc3f1"
      },
      "source": [
        "import os, sys\n",
        "nb_path = '/content/drive/MyDrive/Research'\n",
        "sys.path.insert(0,nb_path)\n",
        "print(sys.path)"
      ],
      "execution_count": 4,
      "outputs": [
        {
          "output_type": "stream",
          "text": [
            "['/content/drive/MyDrive/Research', '', '/env/python', '/usr/lib/python36.zip', '/usr/lib/python3.6', '/usr/lib/python3.6/lib-dynload', '/usr/local/lib/python3.6/dist-packages', '/usr/lib/python3/dist-packages', '/usr/local/lib/python3.6/dist-packages/IPython/extensions', '/root/.ipython']\n"
          ],
          "name": "stdout"
        }
      ]
    },
    {
      "cell_type": "code",
      "metadata": {
        "colab": {
          "base_uri": "https://localhost:8080/",
          "height": 259
        },
        "id": "BDs76sPHMIxx",
        "outputId": "5b38d627-0462-4dc0-b874-351e4a82570f"
      },
      "source": [
        "!pip install '/content/drive/MyDrive/Research/xgboost-1.4.0_SNAPSHOT+cb207a355d1ff530b5f9a7dcb8677dc19999e270-py3-none-manylinux2010_x86_64.whl'"
      ],
      "execution_count": 6,
      "outputs": [
        {
          "output_type": "stream",
          "text": [
            "Processing ./drive/MyDrive/Research/xgboost-1.4.0_SNAPSHOT+cb207a355d1ff530b5f9a7dcb8677dc19999e270-py3-none-manylinux2010_x86_64.whl\n",
            "Requirement already satisfied: scipy in /usr/local/lib/python3.6/dist-packages (from xgboost==1.4.0-SNAPSHOT+cb207a355d1ff530b5f9a7dcb8677dc19999e270) (1.4.1)\n",
            "Requirement already satisfied: numpy in /usr/local/lib/python3.6/dist-packages (from xgboost==1.4.0-SNAPSHOT+cb207a355d1ff530b5f9a7dcb8677dc19999e270) (1.19.4)\n",
            "Installing collected packages: xgboost\n",
            "  Found existing installation: xgboost 0.90\n",
            "    Uninstalling xgboost-0.90:\n",
            "      Successfully uninstalled xgboost-0.90\n",
            "Successfully installed xgboost-1.4.0-SNAPSHOT\n"
          ],
          "name": "stdout"
        },
        {
          "output_type": "display_data",
          "data": {
            "application/vnd.colab-display-data+json": {
              "pip_warning": {
                "packages": [
                  "xgboost"
                ]
              }
            }
          },
          "metadata": {
            "tags": []
          }
        }
      ]
    },
    {
      "cell_type": "code",
      "metadata": {
        "colab": {
          "base_uri": "https://localhost:8080/"
        },
        "id": "PbrWtQxeKMfK",
        "outputId": "7272dc13-cb1d-4ea1-d221-07532039c72e"
      },
      "source": [
        "import xgboost as xgb\n",
        "print(xgb.__version__)"
      ],
      "execution_count": 5,
      "outputs": [
        {
          "output_type": "stream",
          "text": [
            "1.4.0-SNAPSHOT\n"
          ],
          "name": "stdout"
        }
      ]
    },
    {
      "cell_type": "code",
      "metadata": {
        "colab": {
          "base_uri": "https://localhost:8080/"
        },
        "id": "rmgDvjGHd2O8",
        "outputId": "b1ffb68e-11d6-4f27-9d01-109b0b038c73"
      },
      "source": [
        "from ConfidenceScores import custom_add\n",
        "custom_add.cadd(2,2)"
      ],
      "execution_count": 6,
      "outputs": [
        {
          "output_type": "execute_result",
          "data": {
            "text/plain": [
              "4"
            ]
          },
          "metadata": {
            "tags": []
          },
          "execution_count": 6
        }
      ]
    },
    {
      "cell_type": "markdown",
      "metadata": {
        "id": "9yoCPQi4oq_L"
      },
      "source": [
        "# Start of Confidence Scores section\n"
      ]
    },
    {
      "cell_type": "code",
      "metadata": {
        "id": "G2BGmMKbjEUW"
      },
      "source": [
        "import numpy as np # linear algebra\n",
        "import pandas as pd # data processing, CSV file I/O (e.g. pd.read_csv)\n",
        "from sklearn.model_selection import train_test_split\n",
        "import xgboost\n",
        "from sklearn import metrics\n",
        "from sklearn.datasets import fetch_openml"
      ],
      "execution_count": 7,
      "outputs": []
    },
    {
      "cell_type": "code",
      "metadata": {
        "colab": {
          "base_uri": "https://localhost:8080/"
        },
        "id": "fJuTCmtxjUct",
        "outputId": "25b2e34f-a7a3-4d50-ca42-c244bab6fe66"
      },
      "source": [
        "mnist = fetch_openml('mnist_784', cache=True)\n",
        "print(mnist.data.shape, mnist.target.shape)"
      ],
      "execution_count": 8,
      "outputs": [
        {
          "output_type": "stream",
          "text": [
            "(70000, 784) (70000,)\n"
          ],
          "name": "stdout"
        }
      ]
    },
    {
      "cell_type": "code",
      "metadata": {
        "id": "JPAheNSGkRTC"
      },
      "source": [
        "X = mnist.data.astype('float32')\n",
        "y = mnist.target.astype('int64')"
      ],
      "execution_count": 9,
      "outputs": []
    },
    {
      "cell_type": "code",
      "metadata": {
        "colab": {
          "base_uri": "https://localhost:8080/"
        },
        "id": "7D34iQ0WkUG6",
        "outputId": "61d679b9-4583-4cb8-f33e-1ba196324c95"
      },
      "source": [
        "X /= 255.0\n",
        "X.min(), X.max()"
      ],
      "execution_count": 10,
      "outputs": [
        {
          "output_type": "execute_result",
          "data": {
            "text/plain": [
              "(0.0, 1.0)"
            ]
          },
          "metadata": {
            "tags": []
          },
          "execution_count": 10
        }
      ]
    },
    {
      "cell_type": "code",
      "metadata": {
        "id": "uKx8gLKqkVhY"
      },
      "source": [
        "X_train, X_val, y_train, y_val = train_test_split(X, y, test_size=0.25, random_state=42)"
      ],
      "execution_count": 11,
      "outputs": []
    },
    {
      "cell_type": "code",
      "metadata": {
        "colab": {
          "base_uri": "https://localhost:8080/"
        },
        "id": "BTHtVjmJk4E0",
        "outputId": "a66fc24a-7e3f-43c0-a139-99e9feb79c3b"
      },
      "source": [
        "print(X_train.shape, X_val.shape, y_train.shape, y_val.shape)"
      ],
      "execution_count": 12,
      "outputs": [
        {
          "output_type": "stream",
          "text": [
            "(52500, 784) (17500, 784) (52500,) (17500,)\n"
          ],
          "name": "stdout"
        }
      ]
    },
    {
      "cell_type": "markdown",
      "metadata": {
        "id": "4181j1uKB8p8"
      },
      "source": [
        "### Default XGBoost implementation"
      ]
    },
    {
      "cell_type": "code",
      "metadata": {
        "id": "CoKgDb1jk_cM",
        "colab": {
          "base_uri": "https://localhost:8080/",
          "height": 494
        },
        "outputId": "32a8fa94-2518-44c3-d460-fca4da12f8de"
      },
      "source": [
        "dtrain = xgboost.DMatrix(X_train, label=y_train)\n",
        "dval = xgboost.DMatrix(X_val, label=y_val)\n",
        "\n",
        "params = {\n",
        "    'max_depth': 5,                 # the maximum depth of each tree\n",
        "    'eta': 0.5,                     # the training step for each iteration\n",
        "    'eta_decay': 0.9,\n",
        "    'min_eta': 0.05,\n",
        "    'silent': 0,                    # logging mode - quiet\n",
        "    'objective': 'multi:softmax',   # multiclass classification using the softmax objective\n",
        "    'num_class': 10,                 # the number of classes that exist in this datset\n",
        "    'early_stopping_rounds': 10,\n",
        "    'n_estimators': 5000\n",
        "}  \n",
        "\n",
        "def eval_acc(preds, dtrain):\n",
        "    labels = dtrain.get_label()\n",
        "    return 'acc', metrics.accuracy_score(labels, preds), \n",
        "    \n",
        "\n",
        "results = {}\n",
        "model = xgboost.train(params, dtrain, num_boost_round=2, evals=[(dval, 'val')], evals_result=results, feval=eval_acc)"
      ],
      "execution_count": 13,
      "outputs": [
        {
          "output_type": "stream",
          "text": [
            "[19:02:38] WARNING: ../src/learner.cc:547: \n",
            "Parameters: { early_stopping_rounds, eta_decay, min_eta, n_estimators, silent } might not be used.\n",
            "\n",
            "  This may not be accurate due to some parameters are only used in language bindings but\n",
            "  passed down to XGBoost core.  Or some parameters are not used but slip through this\n",
            "  verification. Please open an issue if you find above cases.\n",
            "\n",
            "\n"
          ],
          "name": "stdout"
        },
        {
          "output_type": "error",
          "ename": "KeyboardInterrupt",
          "evalue": "ignored",
          "traceback": [
            "\u001b[0;31m---------------------------------------------------------------------------\u001b[0m",
            "\u001b[0;31mKeyboardInterrupt\u001b[0m                         Traceback (most recent call last)",
            "\u001b[0;32m<ipython-input-13-c9d308af0447>\u001b[0m in \u001b[0;36m<module>\u001b[0;34m()\u001b[0m\n\u001b[1;32m     20\u001b[0m \u001b[0;34m\u001b[0m\u001b[0m\n\u001b[1;32m     21\u001b[0m \u001b[0mresults\u001b[0m \u001b[0;34m=\u001b[0m \u001b[0;34m{\u001b[0m\u001b[0;34m}\u001b[0m\u001b[0;34m\u001b[0m\u001b[0;34m\u001b[0m\u001b[0m\n\u001b[0;32m---> 22\u001b[0;31m \u001b[0mmodel\u001b[0m \u001b[0;34m=\u001b[0m \u001b[0mxgboost\u001b[0m\u001b[0;34m.\u001b[0m\u001b[0mtrain\u001b[0m\u001b[0;34m(\u001b[0m\u001b[0mparams\u001b[0m\u001b[0;34m,\u001b[0m \u001b[0mdtrain\u001b[0m\u001b[0;34m,\u001b[0m \u001b[0mnum_boost_round\u001b[0m\u001b[0;34m=\u001b[0m\u001b[0;36m2\u001b[0m\u001b[0;34m,\u001b[0m \u001b[0mevals\u001b[0m\u001b[0;34m=\u001b[0m\u001b[0;34m[\u001b[0m\u001b[0;34m(\u001b[0m\u001b[0mdval\u001b[0m\u001b[0;34m,\u001b[0m \u001b[0;34m'val'\u001b[0m\u001b[0;34m)\u001b[0m\u001b[0;34m]\u001b[0m\u001b[0;34m,\u001b[0m \u001b[0mevals_result\u001b[0m\u001b[0;34m=\u001b[0m\u001b[0mresults\u001b[0m\u001b[0;34m,\u001b[0m \u001b[0mfeval\u001b[0m\u001b[0;34m=\u001b[0m\u001b[0meval_acc\u001b[0m\u001b[0;34m)\u001b[0m\u001b[0;34m\u001b[0m\u001b[0;34m\u001b[0m\u001b[0m\n\u001b[0m",
            "\u001b[0;32m/usr/local/lib/python3.6/dist-packages/xgboost/training.py\u001b[0m in \u001b[0;36mtrain\u001b[0;34m(params, dtrain, num_boost_round, evals, obj, feval, maximize, early_stopping_rounds, evals_result, verbose_eval, xgb_model, callbacks)\u001b[0m\n\u001b[1;32m    187\u001b[0m                           \u001b[0mevals_result\u001b[0m\u001b[0;34m=\u001b[0m\u001b[0mevals_result\u001b[0m\u001b[0;34m,\u001b[0m\u001b[0;34m\u001b[0m\u001b[0;34m\u001b[0m\u001b[0m\n\u001b[1;32m    188\u001b[0m                           \u001b[0mmaximize\u001b[0m\u001b[0;34m=\u001b[0m\u001b[0mmaximize\u001b[0m\u001b[0;34m,\u001b[0m\u001b[0;34m\u001b[0m\u001b[0;34m\u001b[0m\u001b[0m\n\u001b[0;32m--> 189\u001b[0;31m                           early_stopping_rounds=early_stopping_rounds)\n\u001b[0m\u001b[1;32m    190\u001b[0m     \u001b[0;32mreturn\u001b[0m \u001b[0mbst\u001b[0m\u001b[0;34m\u001b[0m\u001b[0;34m\u001b[0m\u001b[0m\n\u001b[1;32m    191\u001b[0m \u001b[0;34m\u001b[0m\u001b[0m\n",
            "\u001b[0;32m/usr/local/lib/python3.6/dist-packages/xgboost/training.py\u001b[0m in \u001b[0;36m_train_internal\u001b[0;34m(params, dtrain, num_boost_round, evals, obj, feval, xgb_model, callbacks, evals_result, maximize, verbose_eval, early_stopping_rounds)\u001b[0m\n\u001b[1;32m     80\u001b[0m         \u001b[0;32mif\u001b[0m \u001b[0mcallbacks\u001b[0m\u001b[0;34m.\u001b[0m\u001b[0mbefore_iteration\u001b[0m\u001b[0;34m(\u001b[0m\u001b[0mbst\u001b[0m\u001b[0;34m,\u001b[0m \u001b[0mi\u001b[0m\u001b[0;34m,\u001b[0m \u001b[0mdtrain\u001b[0m\u001b[0;34m,\u001b[0m \u001b[0mevals\u001b[0m\u001b[0;34m)\u001b[0m\u001b[0;34m:\u001b[0m\u001b[0;34m\u001b[0m\u001b[0;34m\u001b[0m\u001b[0m\n\u001b[1;32m     81\u001b[0m             \u001b[0;32mbreak\u001b[0m\u001b[0;34m\u001b[0m\u001b[0;34m\u001b[0m\u001b[0m\n\u001b[0;32m---> 82\u001b[0;31m         \u001b[0mbst\u001b[0m\u001b[0;34m.\u001b[0m\u001b[0mupdate\u001b[0m\u001b[0;34m(\u001b[0m\u001b[0mdtrain\u001b[0m\u001b[0;34m,\u001b[0m \u001b[0mi\u001b[0m\u001b[0;34m,\u001b[0m \u001b[0mobj\u001b[0m\u001b[0;34m)\u001b[0m\u001b[0;34m\u001b[0m\u001b[0;34m\u001b[0m\u001b[0m\n\u001b[0m\u001b[1;32m     83\u001b[0m         \u001b[0;32mif\u001b[0m \u001b[0mcallbacks\u001b[0m\u001b[0;34m.\u001b[0m\u001b[0mafter_iteration\u001b[0m\u001b[0;34m(\u001b[0m\u001b[0mbst\u001b[0m\u001b[0;34m,\u001b[0m \u001b[0mi\u001b[0m\u001b[0;34m,\u001b[0m \u001b[0mdtrain\u001b[0m\u001b[0;34m,\u001b[0m \u001b[0mevals\u001b[0m\u001b[0;34m)\u001b[0m\u001b[0;34m:\u001b[0m\u001b[0;34m\u001b[0m\u001b[0;34m\u001b[0m\u001b[0m\n\u001b[1;32m     84\u001b[0m             \u001b[0;32mbreak\u001b[0m\u001b[0;34m\u001b[0m\u001b[0;34m\u001b[0m\u001b[0m\n",
            "\u001b[0;32m/usr/local/lib/python3.6/dist-packages/xgboost/core.py\u001b[0m in \u001b[0;36mupdate\u001b[0;34m(self, dtrain, iteration, fobj)\u001b[0m\n\u001b[1;32m   1273\u001b[0m             _check_call(_LIB.XGBoosterUpdateOneIter(self.handle,\n\u001b[1;32m   1274\u001b[0m                                                     \u001b[0mctypes\u001b[0m\u001b[0;34m.\u001b[0m\u001b[0mc_int\u001b[0m\u001b[0;34m(\u001b[0m\u001b[0miteration\u001b[0m\u001b[0;34m)\u001b[0m\u001b[0;34m,\u001b[0m\u001b[0;34m\u001b[0m\u001b[0;34m\u001b[0m\u001b[0m\n\u001b[0;32m-> 1275\u001b[0;31m                                                     dtrain.handle))\n\u001b[0m\u001b[1;32m   1276\u001b[0m         \u001b[0;32melse\u001b[0m\u001b[0;34m:\u001b[0m\u001b[0;34m\u001b[0m\u001b[0;34m\u001b[0m\u001b[0m\n\u001b[1;32m   1277\u001b[0m             \u001b[0mpred\u001b[0m \u001b[0;34m=\u001b[0m \u001b[0mself\u001b[0m\u001b[0;34m.\u001b[0m\u001b[0mpredict\u001b[0m\u001b[0;34m(\u001b[0m\u001b[0mdtrain\u001b[0m\u001b[0;34m,\u001b[0m \u001b[0moutput_margin\u001b[0m\u001b[0;34m=\u001b[0m\u001b[0;32mTrue\u001b[0m\u001b[0;34m,\u001b[0m \u001b[0mtraining\u001b[0m\u001b[0;34m=\u001b[0m\u001b[0;32mTrue\u001b[0m\u001b[0;34m)\u001b[0m\u001b[0;34m\u001b[0m\u001b[0;34m\u001b[0m\u001b[0m\n",
            "\u001b[0;31mKeyboardInterrupt\u001b[0m: "
          ]
        }
      ]
    },
    {
      "cell_type": "markdown",
      "metadata": {
        "id": "s0nVm0zxCByX"
      },
      "source": [
        "### Confidence score XGBoost implementation"
      ]
    },
    {
      "cell_type": "code",
      "metadata": {
        "id": "elOwB46IvUkD"
      },
      "source": [
        "from sklearn.preprocessing import OneHotEncoder\n",
        "from scipy.special import softmax as softmax_matrix\n",
        "\n",
        "n_classes = 10\n",
        "eps=10**-10\n",
        "\n",
        "def softmax(x):\n",
        "    '''Softmax function with x as input vector.'''\n",
        "    e = np.exp(x)\n",
        "    return e / np.sum(e)\n",
        "\n",
        "def sigmoid(x):\n",
        "    '''Sigmoid function with x as input vector.'''\n",
        "    e = 1/(1 + np.exp(-x)) \n",
        "    return e\n",
        "\n",
        "dtrain = xgboost.DMatrix(X_train, label=y_train)\n",
        "dval = xgboost.DMatrix(X_val, label=y_val)\n",
        "\n",
        "params = {\n",
        "    'max_depth': 5,                 # the maximum depth of each tree\n",
        "    'eta': 0.5,                     # the training step for each iteration\n",
        "    'eta_decay': 0.9,\n",
        "    'min_eta': 0.05,\n",
        "    'silent': 0,                    # logging mode - quiet\n",
        "    'num_class': n_classes+1,       # the number of classes that exist in this datset\n",
        "    'early_stopping_rounds': 10,\n",
        "    'n_estimators': 5000\n",
        "}  "
      ],
      "execution_count": 14,
      "outputs": []
    },
    {
      "cell_type": "code",
      "metadata": {
        "id": "tLUlSoM1-2cL"
      },
      "source": [
        "# custom\n",
        "def obj_w_confidence__log_regularizer(preds_w_conf, dtrain):\n",
        "    \n",
        "    lam = 0.5\n",
        "    labels = dtrain.get_label().reshape(-1, 1)\n",
        "    labels = OneHotEncoder(sparse=False, categories='auto').fit_transform(labels)\n",
        "    \n",
        "    preds = preds_w_conf[:,:-1]\n",
        "    conf = preds_w_conf[:,-1]\n",
        "    \n",
        "    preds = softmax_matrix(preds, axis=1)\n",
        "    weights = np.tile(sigmoid(conf),[n_classes,1]).T\n",
        "    loss = np.sum(-1.*labels*np.log(preds+eps),axis=1)\n",
        "    \n",
        "    preds_grad = weights*(preds - labels)\n",
        "    conf_grad = loss*sigmoid(conf)*(1-sigmoid(conf)) - lam*sigmoid(-1.*conf)\n",
        "    grad = np.hstack([preds_grad, conf_grad[:,np.newaxis]])\n",
        "\n",
        "    preds_hess = 2.0 * weights * preds * (1.0 - preds)\n",
        "    conf_hess = loss*sigmoid(conf)*(1-sigmoid(conf))*(1-2*sigmoid(conf)) + lam*sigmoid(-1.*conf)*(1-sigmoid(-1.*conf))\n",
        "    hess = np.hstack([preds_hess, conf_hess[:,np.newaxis]])\n",
        "\n",
        "    return grad.flatten(), hess.flatten()\n",
        "\n",
        "def obj_w_confidence__linear_regularizer(preds_w_conf, dtrain):\n",
        "\n",
        "    lam = 1.\n",
        "    labels = dtrain.get_label().reshape(-1, 1)\n",
        "    labels = OneHotEncoder(sparse=False, categories='auto').fit_transform(labels)\n",
        "    \n",
        "    preds = preds_w_conf[:,:-1]\n",
        "    conf = preds_w_conf[:,-1]\n",
        "    \n",
        "    preds = softmax_matrix(preds, axis=1)\n",
        "    weights = np.tile(sigmoid(conf),[n_classes,1]).T\n",
        "    loss = np.sum(-1.*labels*np.log(preds+eps),axis=1)\n",
        "    \n",
        "    preds_grad = weights*(preds - labels)\n",
        "    conf_grad = (loss-lam)*sigmoid(conf)*(1-sigmoid(conf)) \n",
        "    grad = np.hstack([preds_grad, conf_grad[:,np.newaxis]])\n",
        "\n",
        "    preds_hess = 2.0 * weights * preds * (1.0 - preds)\n",
        "    conf_hess = (loss-lam)*sigmoid(conf)*(1-sigmoid(conf))*(1-2*sigmoid(conf)) \n",
        "    hess = np.hstack([preds_hess, conf_hess[:,np.newaxis]])\n",
        "\n",
        "    return grad.flatten(), hess.flatten()"
      ],
      "execution_count": 15,
      "outputs": []
    },
    {
      "cell_type": "code",
      "metadata": {
        "id": "IOzVb8rS-6xH"
      },
      "source": [
        "def eval_acc(preds_w_conf, dtrain):\n",
        "    labels = dtrain.get_label()\n",
        "    preds = preds_w_conf[:,:-1]\n",
        "\n",
        "    one_hot_labels = OneHotEncoder(sparse=False, categories='auto').fit_transform(labels.reshape(-1, 1))\n",
        "    preds = softmax_matrix(preds, axis=1)\n",
        "\n",
        "    log_loss = np.mean(np.sum(-1.*one_hot_labels*np.log(preds+eps),axis=1))\n",
        "    conf_loss = -1.*np.mean(np.log(sigmoid(preds_w_conf[:,-1])))\n",
        "    conf_mean = np.mean(sigmoid(preds_w_conf[:,-1]))\n",
        "    print(\"log_loss = \", log_loss)\n",
        "    print(\"conf_loss = \", conf_loss)\n",
        "    print(\"conf_mean = \", conf_mean)\n",
        "\n",
        "    preds = np.argmax(preds,axis=1)\n",
        "    return 'acc', metrics.accuracy_score(labels, preds)"
      ],
      "execution_count": 16,
      "outputs": []
    },
    {
      "cell_type": "code",
      "metadata": {
        "colab": {
          "base_uri": "https://localhost:8080/"
        },
        "id": "Ag7tzrqi-9E7",
        "outputId": "2a8419ae-2279-4300-baa1-8e8bc07a5b2a"
      },
      "source": [
        "results = {}\n",
        "model = xgboost.train(params, dtrain, num_boost_round=50, obj = obj_w_confidence__linear_regularizer, evals=[(dval, 'val')], evals_result=results, feval=eval_acc)"
      ],
      "execution_count": 17,
      "outputs": [
        {
          "output_type": "stream",
          "text": [
            "[19:03:00] WARNING: ../src/learner.cc:547: \n",
            "Parameters: { early_stopping_rounds, eta_decay, min_eta, n_estimators, silent } might not be used.\n",
            "\n",
            "  This may not be accurate due to some parameters are only used in language bindings but\n",
            "  passed down to XGBoost core.  Or some parameters are not used but slip through this\n",
            "  verification. Please open an issue if you find above cases.\n",
            "\n",
            "\n",
            "[19:03:13] WARNING: ../src/learner.cc:1043: Starting in XGBoost 1.3.0, the default evaluation metric used with the objective 'multi:softmax' was changed from 'merror' to 'mlogloss'. Explicitly set eval_metric if you'd like to restore the old behavior.\n",
            "log_loss =  1.0591982041495187\n",
            "conf_loss =  0.47407689690589905\n",
            "conf_mean =  0.62245935\n",
            "[0]\tval-mlogloss:1.12975\tval-acc:0.82091\n",
            "log_loss =  0.7753117494872638\n",
            "conf_loss =  0.0759894922375679\n",
            "conf_mean =  0.92682576\n",
            "[1]\tval-mlogloss:1.17638\tval-acc:0.87183\n",
            "log_loss =  0.6047871416649648\n",
            "conf_loss =  0.04303230717778206\n",
            "conf_mean =  0.95788026\n",
            "[2]\tval-mlogloss:1.17922\tval-acc:0.89080\n",
            "log_loss =  0.4901830954251545\n",
            "conf_loss =  0.025164902210235596\n",
            "conf_mean =  0.9751491\n",
            "[3]\tval-mlogloss:1.25890\tval-acc:0.90371\n",
            "log_loss =  0.4101352290374892\n",
            "conf_loss =  0.01495575811713934\n",
            "conf_mean =  0.98515534\n",
            "[4]\tval-mlogloss:1.39467\tval-acc:0.91269\n",
            "log_loss =  0.35293267148642665\n",
            "conf_loss =  0.00896899588406086\n",
            "conf_mean =  0.991071\n",
            "[5]\tval-mlogloss:1.57601\tval-acc:0.91989\n",
            "log_loss =  0.3104759970020503\n",
            "conf_loss =  0.005408281926065683\n",
            "conf_mean =  0.99460626\n",
            "[6]\tval-mlogloss:1.79782\tval-acc:0.92560\n",
            "log_loss =  0.2762914912263464\n",
            "conf_loss =  0.0032733557745814323\n",
            "conf_mean =  0.9967318\n",
            "[7]\tval-mlogloss:2.04781\tval-acc:0.93206\n",
            "log_loss =  0.25194273413471613\n",
            "conf_loss =  0.0019872847478836775\n",
            "conf_mean =  0.9980145\n",
            "[8]\tval-mlogloss:2.33027\tval-acc:0.93600\n",
            "log_loss =  0.23266561115559722\n",
            "conf_loss =  0.0012102891923859715\n",
            "conf_mean =  0.9987905\n",
            "[9]\tval-mlogloss:2.63879\tval-acc:0.93766\n",
            "log_loss =  0.21525237701069563\n",
            "conf_loss =  0.0007400269969366491\n",
            "conf_mean =  0.9992601\n",
            "[10]\tval-mlogloss:2.95781\tval-acc:0.94183\n",
            "log_loss =  0.20227072287681513\n",
            "conf_loss =  0.00045506571768783033\n",
            "conf_mean =  0.9995451\n",
            "[11]\tval-mlogloss:3.29835\tval-acc:0.94400\n",
            "log_loss =  0.18913338047187508\n",
            "conf_loss =  0.00028226786525920033\n",
            "conf_mean =  0.9997178\n",
            "[12]\tval-mlogloss:3.63712\tval-acc:0.94811\n",
            "log_loss =  0.18032034212817172\n",
            "conf_loss =  0.0001772202958818525\n",
            "conf_mean =  0.9998227\n",
            "[13]\tval-mlogloss:4.00017\tval-acc:0.94914\n",
            "log_loss =  0.17285265096730354\n",
            "conf_loss =  0.00011337444448145106\n",
            "conf_mean =  0.99988663\n",
            "[14]\tval-mlogloss:4.34459\tval-acc:0.95109\n",
            "log_loss =  0.165071617734063\n",
            "conf_loss =  7.42701449780725e-05\n",
            "conf_mean =  0.9999257\n",
            "[15]\tval-mlogloss:4.67668\tval-acc:0.95331\n",
            "log_loss =  0.15859374225958184\n",
            "conf_loss =  5.0307586207054555e-05\n",
            "conf_mean =  0.9999496\n",
            "[16]\tval-mlogloss:4.98094\tval-acc:0.95446\n",
            "log_loss =  0.1529132853376147\n",
            "conf_loss =  3.528657180140726e-05\n",
            "conf_mean =  0.9999647\n",
            "[17]\tval-mlogloss:5.25561\tval-acc:0.95583\n",
            "log_loss =  0.14799032333720824\n",
            "conf_loss =  2.5630319214542396e-05\n",
            "conf_mean =  0.9999743\n",
            "[18]\tval-mlogloss:5.49493\tval-acc:0.95691\n",
            "log_loss =  0.14313277315029077\n",
            "conf_loss =  1.9431299733696505e-05\n",
            "conf_mean =  0.9999807\n",
            "[19]\tval-mlogloss:5.71028\tval-acc:0.95874\n",
            "log_loss =  0.138382183608863\n",
            "conf_loss =  1.9431299733696505e-05\n",
            "conf_mean =  0.9999807\n",
            "[20]\tval-mlogloss:5.64281\tval-acc:0.95966\n",
            "log_loss =  0.1352537230351811\n",
            "conf_loss =  1.9431299733696505e-05\n",
            "conf_mean =  0.9999807\n",
            "[21]\tval-mlogloss:5.57968\tval-acc:0.95960\n",
            "log_loss =  0.13173306576137714\n",
            "conf_loss =  1.9431299733696505e-05\n",
            "conf_mean =  0.9999807\n",
            "[22]\tval-mlogloss:5.52163\tval-acc:0.96046\n",
            "log_loss =  0.12836561376383138\n",
            "conf_loss =  1.9431299733696505e-05\n",
            "conf_mean =  0.9999807\n",
            "[23]\tval-mlogloss:5.46006\tval-acc:0.96183\n",
            "log_loss =  0.12508485612671896\n",
            "conf_loss =  1.9431299733696505e-05\n",
            "conf_mean =  0.9999807\n",
            "[24]\tval-mlogloss:5.40722\tval-acc:0.96303\n",
            "log_loss =  0.12262694058481492\n",
            "conf_loss =  1.9431299733696505e-05\n",
            "conf_mean =  0.9999807\n",
            "[25]\tval-mlogloss:5.34898\tval-acc:0.96423\n",
            "log_loss =  0.11993549291002814\n",
            "conf_loss =  1.9431299733696505e-05\n",
            "conf_mean =  0.9999807\n",
            "[26]\tval-mlogloss:5.29622\tval-acc:0.96446\n",
            "log_loss =  0.11766673127916281\n",
            "conf_loss =  1.9431299733696505e-05\n",
            "conf_mean =  0.9999807\n",
            "[27]\tval-mlogloss:5.23805\tval-acc:0.96497\n",
            "log_loss =  0.11521396121887363\n",
            "conf_loss =  1.9431299733696505e-05\n",
            "conf_mean =  0.9999807\n",
            "[28]\tval-mlogloss:5.19052\tval-acc:0.96577\n",
            "log_loss =  0.11236431099849319\n",
            "conf_loss =  1.9431299733696505e-05\n",
            "conf_mean =  0.9999807\n",
            "[29]\tval-mlogloss:5.13623\tval-acc:0.96657\n",
            "log_loss =  0.11046030826385998\n",
            "conf_loss =  1.9431299733696505e-05\n",
            "conf_mean =  0.9999807\n",
            "[30]\tval-mlogloss:5.09246\tval-acc:0.96680\n",
            "log_loss =  0.10915623418718402\n",
            "conf_loss =  1.9431299733696505e-05\n",
            "conf_mean =  0.9999807\n",
            "[31]\tval-mlogloss:5.05096\tval-acc:0.96714\n",
            "log_loss =  0.10705869666485658\n",
            "conf_loss =  1.9431299733696505e-05\n",
            "conf_mean =  0.9999807\n",
            "[32]\tval-mlogloss:4.99781\tval-acc:0.96754\n",
            "log_loss =  0.10526078859268118\n",
            "conf_loss =  1.9431299733696505e-05\n",
            "conf_mean =  0.9999807\n",
            "[33]\tval-mlogloss:4.95286\tval-acc:0.96754\n",
            "log_loss =  0.10385999479480296\n",
            "conf_loss =  1.9431299733696505e-05\n",
            "conf_mean =  0.9999807\n",
            "[34]\tval-mlogloss:4.90812\tval-acc:0.96880\n",
            "log_loss =  0.10246834759759736\n",
            "conf_loss =  1.9431299733696505e-05\n",
            "conf_mean =  0.9999807\n",
            "[35]\tval-mlogloss:4.86976\tval-acc:0.96891\n",
            "log_loss =  0.10162090624043991\n",
            "conf_loss =  1.5139695278776344e-05\n",
            "conf_mean =  0.9999848\n",
            "[36]\tval-mlogloss:5.06963\tval-acc:0.96903\n",
            "log_loss =  0.10028659258335704\n",
            "conf_loss =  1.5139695278776344e-05\n",
            "conf_mean =  0.9999848\n",
            "[37]\tval-mlogloss:5.02504\tval-acc:0.96943\n",
            "log_loss =  0.09924307263921549\n",
            "conf_loss =  1.5139695278776344e-05\n",
            "conf_mean =  0.9999848\n",
            "[38]\tval-mlogloss:4.97688\tval-acc:0.96966\n",
            "log_loss =  0.0982894914402254\n",
            "conf_loss =  1.5139695278776344e-05\n",
            "conf_mean =  0.9999848\n",
            "[39]\tval-mlogloss:4.93273\tval-acc:0.96949\n",
            "log_loss =  0.09753480338782188\n",
            "conf_loss =  1.5139695278776344e-05\n",
            "conf_mean =  0.9999848\n",
            "[40]\tval-mlogloss:4.89126\tval-acc:0.97023\n",
            "log_loss =  0.09636996289084966\n",
            "conf_loss =  1.5139695278776344e-05\n",
            "conf_mean =  0.9999848\n",
            "[41]\tval-mlogloss:4.85568\tval-acc:0.97029\n",
            "log_loss =  0.09555290857051392\n",
            "conf_loss =  1.5139695278776344e-05\n",
            "conf_mean =  0.9999848\n",
            "[42]\tval-mlogloss:4.81436\tval-acc:0.97097\n",
            "log_loss =  0.09455519803054675\n",
            "conf_loss =  1.5139695278776344e-05\n",
            "conf_mean =  0.9999848\n",
            "[43]\tval-mlogloss:4.77079\tval-acc:0.97063\n",
            "log_loss =  0.09398328690535197\n",
            "conf_loss =  1.5139695278776344e-05\n",
            "conf_mean =  0.9999848\n",
            "[44]\tval-mlogloss:4.73019\tval-acc:0.97109\n",
            "log_loss =  0.09320877157637564\n",
            "conf_loss =  1.5139695278776344e-05\n",
            "conf_mean =  0.9999848\n",
            "[45]\tval-mlogloss:4.69070\tval-acc:0.97120\n",
            "log_loss =  0.09300448510624533\n",
            "conf_loss =  1.5139695278776344e-05\n",
            "conf_mean =  0.9999848\n",
            "[46]\tval-mlogloss:4.66538\tval-acc:0.97114\n",
            "log_loss =  0.09208501839377274\n",
            "conf_loss =  1.5139695278776344e-05\n",
            "conf_mean =  0.9999848\n",
            "[47]\tval-mlogloss:4.62533\tval-acc:0.97160\n",
            "log_loss =  0.0917089818872482\n",
            "conf_loss =  1.5139695278776344e-05\n",
            "conf_mean =  0.9999848\n",
            "[48]\tval-mlogloss:4.59014\tval-acc:0.97137\n",
            "log_loss =  0.09096603058516232\n",
            "conf_loss =  1.5139695278776344e-05\n",
            "conf_mean =  0.9999848\n",
            "[49]\tval-mlogloss:4.55861\tval-acc:0.97126\n"
          ],
          "name": "stdout"
        }
      ]
    },
    {
      "cell_type": "markdown",
      "metadata": {
        "id": "2LRSNxO1_HM4"
      },
      "source": [
        "### Validation Section"
      ]
    },
    {
      "cell_type": "code",
      "metadata": {
        "id": "e-aYLn04xYrl"
      },
      "source": [
        "preds_w_conf = model.predict(dval,output_margin=True)\n",
        "preds = preds_w_conf[:,:-1]\n",
        "conf = preds_w_conf[:,-1]\n",
        "    \n",
        "preds = softmax_matrix(preds, axis=1)\n",
        "conf = sigmoid(conf)\n",
        "pred_class = np.argmax(preds,axis=1)\n",
        "pred_prob = np.max(preds,axis=1)\n",
        "#pred_aum\n",
        "pred_class_top_2 = np.partition(-preds, 2, axis = 1)[:,:2]\n",
        "pred_aum = np.abs(np.diff(pred_class_top_2,axis=1))"
      ],
      "execution_count": null,
      "outputs": []
    },
    {
      "cell_type": "code",
      "metadata": {
        "colab": {
          "base_uri": "https://localhost:8080/"
        },
        "id": "oQOIUrigl4q6",
        "outputId": "678015d2-2904-45d1-c703-9018cec056c1"
      },
      "source": [
        "k=25\n",
        "idx = np.argpartition(conf, k)\n",
        "print(idx[:k])"
      ],
      "execution_count": null,
      "outputs": [
        {
          "output_type": "stream",
          "text": [
            "[ 8247 12027 14248 12288  1026  3234 10075 17201 15378  7640  8010  8770\n",
            " 17378 11189 10355  6446  7104 17383 12645 11842  7538  4935  4860 11677\n",
            " 13325]\n"
          ],
          "name": "stdout"
        }
      ]
    },
    {
      "cell_type": "code",
      "metadata": {
        "colab": {
          "base_uri": "https://localhost:8080/"
        },
        "id": "XSYtP9iJmPub",
        "outputId": "b943a340-96e5-4aee-80ec-f50e4edd2752"
      },
      "source": [
        "np.mean(conf[idx[:k]])"
      ],
      "execution_count": null,
      "outputs": [
        {
          "output_type": "execute_result",
          "data": {
            "text/plain": [
              "0.3878859"
            ]
          },
          "metadata": {
            "tags": []
          },
          "execution_count": 42
        }
      ]
    },
    {
      "cell_type": "code",
      "metadata": {
        "id": "swnD0CmZlHzH"
      },
      "source": [
        "from matplotlib import pyplot as plt\n",
        "for i in idx[:k]:\n",
        "  image = X_val[i]\n",
        "  \n",
        "  print(\"Actual class\", y_val[i])\n",
        "  print(\"Predicted class:\", pred_class[i])\n",
        "  print(\"Predicted class confidence:\", pred_prob[i])\n",
        "  print(\"Predicted aum:\", pred_aum[i])\n",
        "  print(\"Confidence score:\", conf[i])\n",
        "  \n",
        "  pixels = image.reshape((28, 28))\n",
        "  plt.imshow(pixels, cmap='gray')\n",
        "  plt.show()"
      ],
      "execution_count": null,
      "outputs": []
    },
    {
      "cell_type": "markdown",
      "metadata": {
        "id": "H3qL1ndKD_9Y"
      },
      "source": [
        "### Metrics section"
      ]
    },
    {
      "cell_type": "code",
      "metadata": {
        "colab": {
          "base_uri": "https://localhost:8080/"
        },
        "id": "-rt6s3AHlpkP",
        "outputId": "6639a302-5760-4323-bd9f-8655560fb5f9"
      },
      "source": [
        "from sklearn.metrics import roc_auc_score\n",
        "target = [1-int(x) for x in (y_val - pred_class)!=0]\n",
        "\n",
        "print(\"AUC: Predicted class confidence:\", roc_auc_score(target, pred_prob))\n",
        "print(\"AUC: Predicted aum:\", roc_auc_score(target, pred_aum))\n",
        "print(\"AUC: Confidence score:\", roc_auc_score(target, conf))"
      ],
      "execution_count": null,
      "outputs": [
        {
          "output_type": "stream",
          "text": [
            "AUC: Predicted class confidence: 0.9582320431844888\n",
            "AUC: Predicted aum: 0.9580268923815118\n",
            "AUC: Confidence score: 0.6832392650802978\n"
          ],
          "name": "stdout"
        }
      ]
    },
    {
      "cell_type": "markdown",
      "metadata": {
        "id": "oSXK-_5KU3Sx"
      },
      "source": [
        "## Comparison with Fashion MNIST"
      ]
    },
    {
      "cell_type": "code",
      "metadata": {
        "colab": {
          "base_uri": "https://localhost:8080/"
        },
        "id": "qlnwbZPkU6OB",
        "outputId": "9fc530fe-9b04-4442-9f16-0f0b1da78a0e"
      },
      "source": [
        "from sklearn.datasets import fetch_openml\n",
        "fmnist = fetch_openml('fashion-MNIST', cache=True)\n",
        "print(fmnist.data.shape, fmnist.target.shape)"
      ],
      "execution_count": null,
      "outputs": [
        {
          "output_type": "stream",
          "text": [
            "(70000, 784) (70000,)\n"
          ],
          "name": "stdout"
        }
      ]
    },
    {
      "cell_type": "code",
      "metadata": {
        "colab": {
          "base_uri": "https://localhost:8080/"
        },
        "id": "Kbc3HCZaU7yF",
        "outputId": "6077be4a-12b2-46ec-d8bf-e3f7e420790e"
      },
      "source": [
        "X = fmnist.data[:100].astype('float32')\n",
        "y = fmnist.target[:100].astype('int64')\n",
        "X /= 255.0\n",
        "X.min(), X.max()"
      ],
      "execution_count": null,
      "outputs": [
        {
          "output_type": "execute_result",
          "data": {
            "text/plain": [
              "(0.0, 1.0)"
            ]
          },
          "metadata": {
            "tags": []
          },
          "execution_count": 46
        }
      ]
    },
    {
      "cell_type": "code",
      "metadata": {
        "id": "hKDh_HHdVxEP"
      },
      "source": [
        "dood = xgboost.DMatrix(X, label=y)"
      ],
      "execution_count": null,
      "outputs": []
    },
    {
      "cell_type": "code",
      "metadata": {
        "id": "UM8UNzm8Vm58"
      },
      "source": [
        "preds_w_conf = model.predict(dood,output_margin=True)\n",
        "preds = preds_w_conf[:,:-1]\n",
        "conf = preds_w_conf[:,-1]\n",
        "    \n",
        "preds = softmax_matrix(preds, axis=1)\n",
        "conf = sigmoid(conf)\n",
        "pred_class = np.argmax(preds,axis=1)\n",
        "pred_prob = np.max(preds,axis=1)\n",
        "#pred_aum\n",
        "pred_class_top_2 = np.partition(-preds, 2, axis = 1)[:,:2]\n",
        "pred_aum = np.abs(np.diff(pred_class_top_2,axis=1))"
      ],
      "execution_count": null,
      "outputs": []
    },
    {
      "cell_type": "code",
      "metadata": {
        "colab": {
          "base_uri": "https://localhost:8080/"
        },
        "id": "0FsRVFxmV38I",
        "outputId": "7bc2253a-a55a-421e-9d54-2a6d5e8f8cd0"
      },
      "source": [
        "np.mean(conf)"
      ],
      "execution_count": null,
      "outputs": [
        {
          "output_type": "execute_result",
          "data": {
            "text/plain": [
              "0.99997467"
            ]
          },
          "metadata": {
            "tags": []
          },
          "execution_count": 52
        }
      ]
    },
    {
      "cell_type": "code",
      "metadata": {
        "colab": {
          "base_uri": "https://localhost:8080/",
          "height": 1000
        },
        "id": "drt1MKGGV6S4",
        "outputId": "3f86b73e-d8d4-40d0-d3ed-82ac2db394c8"
      },
      "source": [
        "from matplotlib import pyplot as plt\n",
        "for i in range(k):\n",
        "  image = X[i]\n",
        "  \n",
        "  print(\"Actual class\", 10+y[i])\n",
        "  print(\"Predicted class:\", pred_class[i])\n",
        "  print(\"Predicted class confidence:\", pred_prob[i])\n",
        "  print(\"Predicted aum:\", pred_aum[i])\n",
        "  print(\"Confidence score:\", conf[i])\n",
        "  \n",
        "  pixels = image.reshape((28, 28))\n",
        "  plt.imshow(pixels, cmap='gray')\n",
        "  plt.show()"
      ],
      "execution_count": null,
      "outputs": [
        {
          "output_type": "stream",
          "text": [
            "Actual class 19\n",
            "Predicted class: 8\n",
            "Predicted class confidence: 0.99339867\n",
            "Predicted aum: [0.9890084]\n",
            "Confidence score: 0.99995697\n"
          ],
          "name": "stdout"
        },
        {
          "output_type": "display_data",
          "data": {
            "image/png": "[encoded data removed]",
            "text/plain": [
              "<Figure size 432x288 with 1 Axes>"
            ]
          },
          "metadata": {
            "tags": []
          }
        },
        {
          "output_type": "stream",
          "text": [
            "Actual class 10\n",
            "Predicted class: 8\n",
            "Predicted class confidence: 0.99987036\n",
            "Predicted aum: [0.99980253]\n",
            "Confidence score: 0.9999608\n"
          ],
          "name": "stdout"
        },
        {
          "output_type": "display_data",
          "data": {
            "image/png": "[encoded data removed]",
            "text/plain": [
              "<Figure size 432x288 with 1 Axes>"
            ]
          },
          "metadata": {
            "tags": []
          }
        },
        {
          "output_type": "stream",
          "text": [
            "Actual class 10\n",
            "Predicted class: 8\n",
            "Predicted class confidence: 0.99995613\n",
            "Predicted aum: [0.9999324]\n",
            "Confidence score: 0.9999809\n"
          ],
          "name": "stdout"
        },
        {
          "output_type": "display_data",
          "data": {
            "image/png": "[encoded data removed]",
            "text/plain": [
              "<Figure size 432x288 with 1 Axes>"
            ]
          },
          "metadata": {
            "tags": []
          }
        },
        {
          "output_type": "stream",
          "text": [
            "Actual class 13\n",
            "Predicted class: 8\n",
            "Predicted class confidence: 0.9999647\n",
            "Predicted aum: [0.99993366]\n",
            "Confidence score: 0.9999809\n"
          ],
          "name": "stdout"
        },
        {
          "output_type": "display_data",
          "data": {
            "image/png": "[encoded data removed]",
            "text/plain": [
              "<Figure size 432x288 with 1 Axes>"
            ]
          },
          "metadata": {
            "tags": []
          }
        },
        {
          "output_type": "stream",
          "text": [
            "Actual class 10\n",
            "Predicted class: 8\n",
            "Predicted class confidence: 0.9999809\n",
            "Predicted aum: [0.99997026]\n",
            "Confidence score: 0.99997544\n"
          ],
          "name": "stdout"
        },
        {
          "output_type": "display_data",
          "data": {
            "image/png": "[encoded data removed]",
            "text/plain": [
              "<Figure size 432x288 with 1 Axes>"
            ]
          },
          "metadata": {
            "tags": []
          }
        },
        {
          "output_type": "stream",
          "text": [
            "Actual class 12\n",
            "Predicted class: 8\n",
            "Predicted class confidence: 0.999958\n",
            "Predicted aum: [0.9999272]\n",
            "Confidence score: 0.9999795\n"
          ],
          "name": "stdout"
        },
        {
          "output_type": "display_data",
          "data": {
            "image/png": "[encoded data removed]",
            "text/plain": [
              "<Figure size 432x288 with 1 Axes>"
            ]
          },
          "metadata": {
            "tags": []
          }
        },
        {
          "output_type": "stream",
          "text": [
            "Actual class 17\n",
            "Predicted class: 2\n",
            "Predicted class confidence: 0.99913627\n",
            "Predicted aum: [0.99854803]\n",
            "Confidence score: 0.99998343\n"
          ],
          "name": "stdout"
        },
        {
          "output_type": "display_data",
          "data": {
            "image/png": "[encoded data removed]",
            "text/plain": [
              "<Figure size 432x288 with 1 Axes>"
            ]
          },
          "metadata": {
            "tags": []
          }
        },
        {
          "output_type": "stream",
          "text": [
            "Actual class 12\n",
            "Predicted class: 8\n",
            "Predicted class confidence: 0.9959931\n",
            "Predicted aum: [0.9942553]\n",
            "Confidence score: 0.99996614\n"
          ],
          "name": "stdout"
        },
        {
          "output_type": "display_data",
          "data": {
            "image/png": "[encoded data removed]",
            "text/plain": [
              "<Figure size 432x288 with 1 Axes>"
            ]
          },
          "metadata": {
            "tags": []
          }
        },
        {
          "output_type": "stream",
          "text": [
            "Actual class 15\n",
            "Predicted class: 2\n",
            "Predicted class confidence: 0.4422722\n",
            "Predicted aum: [0.19115627]\n",
            "Confidence score: 0.99997914\n"
          ],
          "name": "stdout"
        },
        {
          "output_type": "display_data",
          "data": {
            "image/png": "[encoded data removed]",
            "text/plain": [
              "<Figure size 432x288 with 1 Axes>"
            ]
          },
          "metadata": {
            "tags": []
          }
        },
        {
          "output_type": "stream",
          "text": [
            "Actual class 15\n",
            "Predicted class: 2\n",
            "Predicted class confidence: 0.9532648\n",
            "Predicted aum: [0.92219293]\n",
            "Confidence score: 0.9999783\n"
          ],
          "name": "stdout"
        },
        {
          "output_type": "display_data",
          "data": {
            "image/png": "[encoded data removed]",
            "text/plain": [
              "<Figure size 432x288 with 1 Axes>"
            ]
          },
          "metadata": {
            "tags": []
          }
        },
        {
          "output_type": "stream",
          "text": [
            "Actual class 10\n",
            "Predicted class: 8\n",
            "Predicted class confidence: 0.99999905\n",
            "Predicted aum: [0.99999845]\n",
            "Confidence score: 0.99997294\n"
          ],
          "name": "stdout"
        },
        {
          "output_type": "display_data",
          "data": {
            "image/png": "[encoded data removed]",
            "text/plain": [
              "<Figure size 432x288 with 1 Axes>"
            ]
          },
          "metadata": {
            "tags": []
          }
        },
        {
          "output_type": "stream",
          "text": [
            "Actual class 19\n",
            "Predicted class: 2\n",
            "Predicted class confidence: 0.58743614\n",
            "Predicted aum: [0.18015712]\n",
            "Confidence score: 0.9999541\n"
          ],
          "name": "stdout"
        },
        {
          "output_type": "display_data",
          "data": {
            "image/png": "[encoded data removed]",
            "text/plain": [
              "<Figure size 432x288 with 1 Axes>"
            ]
          },
          "metadata": {
            "tags": []
          }
        },
        {
          "output_type": "stream",
          "text": [
            "Actual class 15\n",
            "Predicted class: 2\n",
            "Predicted class confidence: 0.96066755\n",
            "Predicted aum: [0.93985826]\n",
            "Confidence score: 0.9999845\n"
          ],
          "name": "stdout"
        },
        {
          "output_type": "display_data",
          "data": {
            "image/png": "[encoded data removed]",
            "text/plain": [
              "<Figure size 432x288 with 1 Axes>"
            ]
          },
          "metadata": {
            "tags": []
          }
        },
        {
          "output_type": "stream",
          "text": [
            "Actual class 15\n",
            "Predicted class: 0\n",
            "Predicted class confidence: 0.9635018\n",
            "Predicted aum: [0.9282813]\n",
            "Confidence score: 0.99998367\n"
          ],
          "name": "stdout"
        },
        {
          "output_type": "display_data",
          "data": {
            "image/png": "[encoded data removed]",
            "text/plain": [
              "<Figure size 432x288 with 1 Axes>"
            ]
          },
          "metadata": {
            "tags": []
          }
        },
        {
          "output_type": "stream",
          "text": [
            "Actual class 17\n",
            "Predicted class: 2\n",
            "Predicted class confidence: 0.9570683\n",
            "Predicted aum: [0.9168459]\n",
            "Confidence score: 0.9999802\n"
          ],
          "name": "stdout"
        },
        {
          "output_type": "display_data",
          "data": {
            "image/png": "[encoded data removed]",
            "text/plain": [
              "<Figure size 432x288 with 1 Axes>"
            ]
          },
          "metadata": {
            "tags": []
          }
        },
        {
          "output_type": "stream",
          "text": [
            "Actual class 19\n",
            "Predicted class: 8\n",
            "Predicted class confidence: 0.71019876\n",
            "Predicted aum: [0.42147923]\n",
            "Confidence score: 0.999984\n"
          ],
          "name": "stdout"
        },
        {
          "output_type": "display_data",
          "data": {
            "image/png": "[encoded data removed]",
            "text/plain": [
              "<Figure size 432x288 with 1 Axes>"
            ]
          },
          "metadata": {
            "tags": []
          }
        },
        {
          "output_type": "stream",
          "text": [
            "Actual class 11\n",
            "Predicted class: 8\n",
            "Predicted class confidence: 0.98833054\n",
            "Predicted aum: [0.97916174]\n",
            "Confidence score: 0.99997914\n"
          ],
          "name": "stdout"
        },
        {
          "output_type": "display_data",
          "data": {
            "image/png": "[encoded data removed]",
            "text/plain": [
              "<Figure size 432x288 with 1 Axes>"
            ]
          },
          "metadata": {
            "tags": []
          }
        },
        {
          "output_type": "stream",
          "text": [
            "Actual class 10\n",
            "Predicted class: 8\n",
            "Predicted class confidence: 0.99998045\n",
            "Predicted aum: [0.99997085]\n",
            "Confidence score: 0.99997294\n"
          ],
          "name": "stdout"
        },
        {
          "output_type": "display_data",
          "data": {
            "image/png": "[encoded data removed]",
            "text/plain": [
              "<Figure size 432x288 with 1 Axes>"
            ]
          },
          "metadata": {
            "tags": []
          }
        },
        {
          "output_type": "stream",
          "text": [
            "Actual class 16\n",
            "Predicted class: 8\n",
            "Predicted class confidence: 0.9999781\n",
            "Predicted aum: [0.9999679]\n",
            "Confidence score: 0.99997294\n"
          ],
          "name": "stdout"
        },
        {
          "output_type": "display_data",
          "data": {
            "image/png": "[encoded data removed]",
            "text/plain": [
              "<Figure size 432x288 with 1 Axes>"
            ]
          },
          "metadata": {
            "tags": []
          }
        },
        {
          "output_type": "stream",
          "text": [
            "Actual class 14\n",
            "Predicted class: 8\n",
            "Predicted class confidence: 0.99667394\n",
            "Predicted aum: [0.99459964]\n",
            "Confidence score: 0.9999211\n"
          ],
          "name": "stdout"
        },
        {
          "output_type": "display_data",
          "data": {
            "image/png": "[encoded data removed]",
            "text/plain": [
              "<Figure size 432x288 with 1 Axes>"
            ]
          },
          "metadata": {
            "tags": []
          }
        },
        {
          "output_type": "stream",
          "text": [
            "Actual class 13\n",
            "Predicted class: 8\n",
            "Predicted class confidence: 0.99895155\n",
            "Predicted aum: [0.9979977]\n",
            "Confidence score: 0.9999753\n"
          ],
          "name": "stdout"
        },
        {
          "output_type": "display_data",
          "data": {
            "image/png": "[encoded data removed]",
            "text/plain": [
              "<Figure size 432x288 with 1 Axes>"
            ]
          },
          "metadata": {
            "tags": []
          }
        },
        {
          "output_type": "stream",
          "text": [
            "Actual class 11\n",
            "Predicted class: 8\n",
            "Predicted class confidence: 0.99793124\n",
            "Predicted aum: [0.9966223]\n",
            "Confidence score: 0.9999827\n"
          ],
          "name": "stdout"
        },
        {
          "output_type": "display_data",
          "data": {
            "image/png": "[encoded data removed]",
            "text/plain": [
              "<Figure size 432x288 with 1 Axes>"
            ]
          },
          "metadata": {
            "tags": []
          }
        },
        {
          "output_type": "stream",
          "text": [
            "Actual class 14\n",
            "Predicted class: 8\n",
            "Predicted class confidence: 0.998922\n",
            "Predicted aum: [0.9981279]\n",
            "Confidence score: 0.99998116\n"
          ],
          "name": "stdout"
        },
        {
          "output_type": "display_data",
          "data": {
            "image/png": "[encoded data removed]",
            "text/plain": [
              "<Figure size 432x288 with 1 Axes>"
            ]
          },
          "metadata": {
            "tags": []
          }
        },
        {
          "output_type": "stream",
          "text": [
            "Actual class 18\n",
            "Predicted class: 8\n",
            "Predicted class confidence: 0.9998551\n",
            "Predicted aum: [0.99972093]\n",
            "Confidence score: 0.9999666\n"
          ],
          "name": "stdout"
        },
        {
          "output_type": "display_data",
          "data": {
            "image/png": "[encoded data removed]",
            "text/plain": [
              "<Figure size 432x288 with 1 Axes>"
            ]
          },
          "metadata": {
            "tags": []
          }
        },
        {
          "output_type": "stream",
          "text": [
            "Actual class 14\n",
            "Predicted class: 8\n",
            "Predicted class confidence: 0.99928397\n",
            "Predicted aum: [0.99885887]\n",
            "Confidence score: 0.99997294\n"
          ],
          "name": "stdout"
        },
        {
          "output_type": "display_data",
          "data": {
            "image/png": "[encoded data removed]",
            "text/plain": [
              "<Figure size 432x288 with 1 Axes>"
            ]
          },
          "metadata": {
            "tags": []
          }
        }
      ]
    },
    {
      "cell_type": "code",
      "metadata": {
        "id": "13krQ4HdWOw5"
      },
      "source": [
        ""
      ],
      "execution_count": null,
      "outputs": []
    }
  ]
}