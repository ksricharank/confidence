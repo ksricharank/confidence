{
  "nbformat": 4,
  "nbformat_minor": 0,
  "metadata": {
    "colab": {
      "name": "XgBoost_confidence.ipynb",
      "provenance": [],
      "collapsed_sections": [],
      "mount_file_id": "1YB08w2zY-aT6lFTbO2pQFt211VcDCuhw",
      "authorship_tag": "ABX9TyMRrLLLcfaBFSBF7zQSQAmQ",
      "include_colab_link": true
    },
    "kernelspec": {
      "name": "python3",
      "display_name": "Python 3"
    }
  },
  "cells": [
    {
      "cell_type": "markdown",
      "metadata": {
        "id": "view-in-github",
        "colab_type": "text"
      },
      "source": [
        "<a href=\"https://colab.research.google.com/github/ksricharank/confidence/blob/master/XgBoost_confidence.ipynb\" target=\"_parent\"><img src=\"https://colab.research.google.com/assets/colab-badge.svg\" alt=\"Open In Colab\"/></a>"
      ]
    },
    {
      "cell_type": "code",
      "metadata": {
        "colab": {
          "base_uri": "https://localhost:8080/"
        },
        "id": "sH94_APrM-ab",
        "outputId": "426cc0d3-5c3f-487d-d14f-813a9594139a"
      },
      "source": [
        "import os, sys\n",
        "from google.colab import drive\n",
        "drive.mount('/content/drive')"
      ],
      "execution_count": 1,
      "outputs": [
        {
          "output_type": "stream",
          "text": [
            "Drive already mounted at /content/drive; to attempt to forcibly remount, call drive.mount(\"/content/drive\", force_remount=True).\n"
          ],
          "name": "stdout"
        }
      ]
    },
    {
      "cell_type": "code",
      "metadata": {
        "id": "i1U2d-CzvoVJ",
        "colab": {
          "base_uri": "https://localhost:8080/"
        },
        "outputId": "7320a703-87d5-4fc2-e4ea-f51440594f7f"
      },
      "source": [
        "import os, sys\n",
        "nb_path = '/content/notebooks'\n",
        "sys.path.insert(0,nb_path)\n",
        "print(sys.path)\n",
        "try:\n",
        "  os.symlink('/content/drive/My Drive/Colab Notebooks', nb_path)\n",
        "except: \n",
        "  pass"
      ],
      "execution_count": 2,
      "outputs": [
        {
          "output_type": "stream",
          "text": [
            "['/content/notebooks', '', '/env/python', '/usr/lib/python36.zip', '/usr/lib/python3.6', '/usr/lib/python3.6/lib-dynload', '/usr/local/lib/python3.6/dist-packages', '/usr/lib/python3/dist-packages', '/usr/local/lib/python3.6/dist-packages/IPython/extensions', '/root/.ipython']\n"
          ],
          "name": "stdout"
        }
      ]
    },
    {
      "cell_type": "code",
      "metadata": {
        "id": "87vp-B-SbICR"
      },
      "source": [
        "sys.path.remove(nb_path)"
      ],
      "execution_count": 23,
      "outputs": []
    },
    {
      "cell_type": "code",
      "metadata": {
        "colab": {
          "base_uri": "https://localhost:8080/",
          "height": 344
        },
        "id": "BDs76sPHMIxx",
        "outputId": "d7684776-5d6a-4132-bbae-baec4bd4eb41"
      },
      "source": [
        "!pip install --upgrade --target=$nb_path xgboost"
      ],
      "execution_count": null,
      "outputs": [
        {
          "output_type": "stream",
          "text": [
            "Collecting xgboost\n",
            "\u001b[?25l  Downloading https://files.pythonhosted.org/packages/29/c8/d6ff9fe39cb93ef2e66bb411c69e0135dd1b1ea98827eadbb2ba8baecb44/xgboost-1.3.1-py3-none-manylinux2010_x86_64.whl (157.5MB)\n",
            "\u001b[K     |████████████████████████████████| 157.5MB 86kB/s \n",
            "\u001b[?25hCollecting numpy\n",
            "\u001b[?25l  Downloading https://files.pythonhosted.org/packages/87/86/753182c9085ba4936c0076269a571613387cdb77ae2bf537448bfd63472c/numpy-1.19.4-cp36-cp36m-manylinux2010_x86_64.whl (14.5MB)\n",
            "\u001b[K     |████████████████████████████████| 14.5MB 342kB/s \n",
            "\u001b[?25hCollecting scipy\n",
            "\u001b[?25l  Downloading https://files.pythonhosted.org/packages/c8/89/63171228d5ced148f5ced50305c89e8576ffc695a90b58fe5bb602b910c2/scipy-1.5.4-cp36-cp36m-manylinux1_x86_64.whl (25.9MB)\n",
            "\u001b[K     |████████████████████████████████| 25.9MB 110kB/s \n",
            "\u001b[31mERROR: datascience 0.10.6 has requirement folium==0.2.1, but you'll have folium 0.8.3 which is incompatible.\u001b[0m\n",
            "\u001b[31mERROR: albumentations 0.1.12 has requirement imgaug<0.2.7,>=0.2.5, but you'll have imgaug 0.2.9 which is incompatible.\u001b[0m\n",
            "\u001b[?25hInstalling collected packages: numpy, scipy, xgboost\n",
            "Successfully installed numpy-1.19.4 scipy-1.5.4 xgboost-1.3.1\n"
          ],
          "name": "stdout"
        },
        {
          "output_type": "display_data",
          "data": {
            "application/vnd.colab-display-data+json": {
              "pip_warning": {
                "packages": [
                  "numpy"
                ]
              }
            }
          },
          "metadata": {
            "tags": []
          }
        }
      ]
    },
    {
      "cell_type": "code",
      "metadata": {
        "colab": {
          "base_uri": "https://localhost:8080/"
        },
        "id": "PbrWtQxeKMfK",
        "outputId": "e69f1164-ccd8-4423-f063-ab2a1bfa2057"
      },
      "source": [
        "import xgboost as xgb\n",
        "print(xgb.__version__)"
      ],
      "execution_count": 3,
      "outputs": [
        {
          "output_type": "stream",
          "text": [
            "1.3.1\n"
          ],
          "name": "stdout"
        }
      ]
    },
    {
      "cell_type": "code",
      "metadata": {
        "colab": {
          "base_uri": "https://localhost:8080/"
        },
        "id": "rmgDvjGHd2O8",
        "outputId": "d1ada742-9e47-4b77-dfe8-fcce128e47c4"
      },
      "source": [
        "from ConfidenceScores import custom_add\n",
        "custom_add.cadd(2,2)"
      ],
      "execution_count": 4,
      "outputs": [
        {
          "output_type": "execute_result",
          "data": {
            "text/plain": [
              "4"
            ]
          },
          "metadata": {
            "tags": []
          },
          "execution_count": 4
        }
      ]
    },
    {
      "cell_type": "code",
      "metadata": {
        "id": "G2BGmMKbjEUW"
      },
      "source": [
        "import numpy as np # linear algebra\n",
        "import pandas as pd # data processing, CSV file I/O (e.g. pd.read_csv)\n",
        "from sklearn.model_selection import train_test_split\n",
        "import xgboost\n",
        "from sklearn import metrics\n",
        "from sklearn.datasets import fetch_openml"
      ],
      "execution_count": 5,
      "outputs": []
    },
    {
      "cell_type": "code",
      "metadata": {
        "colab": {
          "base_uri": "https://localhost:8080/"
        },
        "id": "fJuTCmtxjUct",
        "outputId": "f28deae8-1531-48cd-f090-b9b7b489ee98"
      },
      "source": [
        "mnist = fetch_openml('mnist_784', cache=True)\n",
        "print(mnist.data.shape, mnist.target.shape)"
      ],
      "execution_count": 6,
      "outputs": [
        {
          "output_type": "stream",
          "text": [
            "(70000, 784) (70000,)\n"
          ],
          "name": "stdout"
        }
      ]
    },
    {
      "cell_type": "code",
      "metadata": {
        "id": "JPAheNSGkRTC"
      },
      "source": [
        "X = mnist.data.astype('float32')\n",
        "y = mnist.target.astype('int64')"
      ],
      "execution_count": 7,
      "outputs": []
    },
    {
      "cell_type": "code",
      "metadata": {
        "colab": {
          "base_uri": "https://localhost:8080/"
        },
        "id": "7D34iQ0WkUG6",
        "outputId": "4a8c6ba7-ca1a-4cbe-e9a8-2da229fe29ab"
      },
      "source": [
        "X /= 255.0\n",
        "X.min(), X.max()"
      ],
      "execution_count": 8,
      "outputs": [
        {
          "output_type": "execute_result",
          "data": {
            "text/plain": [
              "(0.0, 1.0)"
            ]
          },
          "metadata": {
            "tags": []
          },
          "execution_count": 8
        }
      ]
    },
    {
      "cell_type": "code",
      "metadata": {
        "id": "uKx8gLKqkVhY"
      },
      "source": [
        "X_train, X_val, y_train, y_val = train_test_split(X, y, test_size=0.25, random_state=42)"
      ],
      "execution_count": 9,
      "outputs": []
    },
    {
      "cell_type": "code",
      "metadata": {
        "colab": {
          "base_uri": "https://localhost:8080/"
        },
        "id": "BTHtVjmJk4E0",
        "outputId": "1e534138-d9f6-40c8-ff83-041938f86f22"
      },
      "source": [
        "print(X_train.shape, X_val.shape, y_train.shape, y_val.shape)"
      ],
      "execution_count": 10,
      "outputs": [
        {
          "output_type": "stream",
          "text": [
            "(52500, 784) (17500, 784) (52500,) (17500,)\n"
          ],
          "name": "stdout"
        }
      ]
    },
    {
      "cell_type": "code",
      "metadata": {
        "colab": {
          "base_uri": "https://localhost:8080/",
          "height": 514
        },
        "id": "CoKgDb1jk_cM",
        "outputId": "a18529cc-aa3c-4d57-f470-e2d08d41f79d"
      },
      "source": [
        "dtrain = xgboost.DMatrix(X_train, label=y_train)\n",
        "dval = xgboost.DMatrix(X_val, label=y_val)\n",
        "\n",
        "params = {\n",
        "    'max_depth': 5,                 # the maximum depth of each tree\n",
        "    'eta': 0.5,                     # the training step for each iteration\n",
        "    'eta_decay': 0.9,\n",
        "    'min_eta': 0.05,\n",
        "    'silent': 0,                    # logging mode - quiet\n",
        "    'objective': 'multi:softmax',   # multiclass classification using the softmax objective\n",
        "    'num_class': 10,                 # the number of classes that exist in this datset\n",
        "    'early_stopping_rounds': 10,\n",
        "    'n_estimators': 5000\n",
        "}  \n",
        "\n",
        "def eval_acc(preds, dtrain):\n",
        "    labels = dtrain.get_label()\n",
        "    return 'acc', metrics.accuracy_score(labels, preds), \n",
        "    \n",
        "\n",
        "results = {}\n",
        "model = xgboost.train(params, dtrain, num_boost_round=2, evals=[(dval, 'val')], evals_result=results, feval=eval_acc)"
      ],
      "execution_count": 37,
      "outputs": [
        {
          "output_type": "stream",
          "text": [
            "[00:43:01] WARNING: ../src/learner.cc:541: \n",
            "Parameters: { early_stopping_rounds, eta_decay, min_eta, n_estimators, silent } might not be used.\n",
            "\n",
            "  This may not be accurate due to some parameters are only used in language bindings but\n",
            "  passed down to XGBoost core.  Or some parameters are not used but slip through this\n",
            "  verification. Please open an issue if you find above cases.\n",
            "\n",
            "\n",
            "[00:43:13] WARNING: ../src/learner.cc:1061: Starting in XGBoost 1.3.0, the default evaluation metric used with the objective 'multi:softmax' was changed from 'merror' to 'mlogloss'. Explicitly set eval_metric if you'd like to restore the old behavior.\n"
          ],
          "name": "stdout"
        },
        {
          "output_type": "error",
          "ename": "TypeError",
          "evalue": "ignored",
          "traceback": [
            "\u001b[0;31m---------------------------------------------------------------------------\u001b[0m",
            "\u001b[0;31mTypeError\u001b[0m                                 Traceback (most recent call last)",
            "\u001b[0;32m<ipython-input-37-37f298568c52>\u001b[0m in \u001b[0;36m<module>\u001b[0;34m()\u001b[0m\n\u001b[1;32m     20\u001b[0m \u001b[0;34m\u001b[0m\u001b[0m\n\u001b[1;32m     21\u001b[0m \u001b[0mresults\u001b[0m \u001b[0;34m=\u001b[0m \u001b[0;34m{\u001b[0m\u001b[0;34m}\u001b[0m\u001b[0;34m\u001b[0m\u001b[0;34m\u001b[0m\u001b[0m\n\u001b[0;32m---> 22\u001b[0;31m \u001b[0mmodel\u001b[0m \u001b[0;34m=\u001b[0m \u001b[0mxgboost\u001b[0m\u001b[0;34m.\u001b[0m\u001b[0mtrain\u001b[0m\u001b[0;34m(\u001b[0m\u001b[0mparams\u001b[0m\u001b[0;34m,\u001b[0m \u001b[0mdtrain\u001b[0m\u001b[0;34m,\u001b[0m \u001b[0mnum_boost_round\u001b[0m\u001b[0;34m=\u001b[0m\u001b[0;36m2\u001b[0m\u001b[0;34m,\u001b[0m \u001b[0mevals\u001b[0m\u001b[0;34m=\u001b[0m\u001b[0;34m[\u001b[0m\u001b[0;34m(\u001b[0m\u001b[0mdval\u001b[0m\u001b[0;34m,\u001b[0m \u001b[0;34m'val'\u001b[0m\u001b[0;34m)\u001b[0m\u001b[0;34m]\u001b[0m\u001b[0;34m,\u001b[0m \u001b[0mevals_result\u001b[0m\u001b[0;34m=\u001b[0m\u001b[0mresults\u001b[0m\u001b[0;34m,\u001b[0m \u001b[0mfeval\u001b[0m\u001b[0;34m=\u001b[0m\u001b[0meval_acc\u001b[0m\u001b[0;34m)\u001b[0m\u001b[0;34m\u001b[0m\u001b[0;34m\u001b[0m\u001b[0m\n\u001b[0m",
            "\u001b[0;32m/content/notebooks/xgboost/training.py\u001b[0m in \u001b[0;36mtrain\u001b[0;34m(params, dtrain, num_boost_round, evals, obj, feval, maximize, early_stopping_rounds, evals_result, verbose_eval, xgb_model, callbacks)\u001b[0m\n\u001b[1;32m    212\u001b[0m                           \u001b[0mevals_result\u001b[0m\u001b[0;34m=\u001b[0m\u001b[0mevals_result\u001b[0m\u001b[0;34m,\u001b[0m\u001b[0;34m\u001b[0m\u001b[0;34m\u001b[0m\u001b[0m\n\u001b[1;32m    213\u001b[0m                           \u001b[0mmaximize\u001b[0m\u001b[0;34m=\u001b[0m\u001b[0mmaximize\u001b[0m\u001b[0;34m,\u001b[0m\u001b[0;34m\u001b[0m\u001b[0;34m\u001b[0m\u001b[0m\n\u001b[0;32m--> 214\u001b[0;31m                           early_stopping_rounds=early_stopping_rounds)\n\u001b[0m\u001b[1;32m    215\u001b[0m     \u001b[0;32mreturn\u001b[0m \u001b[0mbst\u001b[0m\u001b[0;34m\u001b[0m\u001b[0;34m\u001b[0m\u001b[0m\n\u001b[1;32m    216\u001b[0m \u001b[0;34m\u001b[0m\u001b[0m\n",
            "\u001b[0;32m/content/notebooks/xgboost/training.py\u001b[0m in \u001b[0;36m_train_internal\u001b[0;34m(params, dtrain, num_boost_round, evals, obj, feval, xgb_model, callbacks, evals_result, maximize, verbose_eval, early_stopping_rounds)\u001b[0m\n\u001b[1;32m    107\u001b[0m         \u001b[0mnboost\u001b[0m \u001b[0;34m+=\u001b[0m \u001b[0;36m1\u001b[0m\u001b[0;34m\u001b[0m\u001b[0;34m\u001b[0m\u001b[0m\n\u001b[1;32m    108\u001b[0m         \u001b[0;31m# check evaluation result.\u001b[0m\u001b[0;34m\u001b[0m\u001b[0;34m\u001b[0m\u001b[0;34m\u001b[0m\u001b[0m\n\u001b[0;32m--> 109\u001b[0;31m         \u001b[0;32mif\u001b[0m \u001b[0mcallbacks\u001b[0m\u001b[0;34m.\u001b[0m\u001b[0mafter_iteration\u001b[0m\u001b[0;34m(\u001b[0m\u001b[0mbst\u001b[0m\u001b[0;34m,\u001b[0m \u001b[0mi\u001b[0m\u001b[0;34m,\u001b[0m \u001b[0mdtrain\u001b[0m\u001b[0;34m,\u001b[0m \u001b[0mevals\u001b[0m\u001b[0;34m)\u001b[0m\u001b[0;34m:\u001b[0m\u001b[0;34m\u001b[0m\u001b[0;34m\u001b[0m\u001b[0m\n\u001b[0m\u001b[1;32m    110\u001b[0m             \u001b[0;32mbreak\u001b[0m\u001b[0;34m\u001b[0m\u001b[0;34m\u001b[0m\u001b[0m\n\u001b[1;32m    111\u001b[0m         \u001b[0;31m# do checkpoint after evaluation, in case evaluation also updates\u001b[0m\u001b[0;34m\u001b[0m\u001b[0;34m\u001b[0m\u001b[0;34m\u001b[0m\u001b[0m\n",
            "\u001b[0;32m/content/notebooks/xgboost/callback.py\u001b[0m in \u001b[0;36mafter_iteration\u001b[0;34m(self, model, epoch, dtrain, evals)\u001b[0m\n\u001b[1;32m    421\u001b[0m             \u001b[0;32mfor\u001b[0m \u001b[0m_\u001b[0m\u001b[0;34m,\u001b[0m \u001b[0mname\u001b[0m \u001b[0;32min\u001b[0m \u001b[0mevals\u001b[0m\u001b[0;34m:\u001b[0m\u001b[0;34m\u001b[0m\u001b[0;34m\u001b[0m\u001b[0m\n\u001b[1;32m    422\u001b[0m                 \u001b[0;32massert\u001b[0m \u001b[0mname\u001b[0m\u001b[0;34m.\u001b[0m\u001b[0mfind\u001b[0m\u001b[0;34m(\u001b[0m\u001b[0;34m'-'\u001b[0m\u001b[0;34m)\u001b[0m \u001b[0;34m==\u001b[0m \u001b[0;34m-\u001b[0m\u001b[0;36m1\u001b[0m\u001b[0;34m,\u001b[0m \u001b[0;34m'Dataset name should not contain `-`'\u001b[0m\u001b[0;34m\u001b[0m\u001b[0;34m\u001b[0m\u001b[0m\n\u001b[0;32m--> 423\u001b[0;31m             \u001b[0mscore\u001b[0m \u001b[0;34m=\u001b[0m \u001b[0mmodel\u001b[0m\u001b[0;34m.\u001b[0m\u001b[0meval_set\u001b[0m\u001b[0;34m(\u001b[0m\u001b[0mevals\u001b[0m\u001b[0;34m,\u001b[0m \u001b[0mepoch\u001b[0m\u001b[0;34m,\u001b[0m \u001b[0mself\u001b[0m\u001b[0;34m.\u001b[0m\u001b[0mmetric\u001b[0m\u001b[0;34m)\u001b[0m\u001b[0;34m\u001b[0m\u001b[0;34m\u001b[0m\u001b[0m\n\u001b[0m\u001b[1;32m    424\u001b[0m             \u001b[0mscore\u001b[0m \u001b[0;34m=\u001b[0m \u001b[0mscore\u001b[0m\u001b[0;34m.\u001b[0m\u001b[0msplit\u001b[0m\u001b[0;34m(\u001b[0m\u001b[0;34m)\u001b[0m\u001b[0;34m[\u001b[0m\u001b[0;36m1\u001b[0m\u001b[0;34m:\u001b[0m\u001b[0;34m]\u001b[0m  \u001b[0;31m# into datasets\u001b[0m\u001b[0;34m\u001b[0m\u001b[0;34m\u001b[0m\u001b[0m\n\u001b[1;32m    425\u001b[0m             \u001b[0;31m# split up `test-error:0.1234`\u001b[0m\u001b[0;34m\u001b[0m\u001b[0;34m\u001b[0m\u001b[0;34m\u001b[0m\u001b[0m\n",
            "\u001b[0;32m/content/notebooks/xgboost/core.py\u001b[0m in \u001b[0;36meval_set\u001b[0;34m(self, evals, iteration, feval)\u001b[0m\n\u001b[1;32m   1357\u001b[0m                 \u001b[0;32melse\u001b[0m\u001b[0;34m:\u001b[0m\u001b[0;34m\u001b[0m\u001b[0;34m\u001b[0m\u001b[0m\n\u001b[1;32m   1358\u001b[0m                     \u001b[0mname\u001b[0m\u001b[0;34m,\u001b[0m \u001b[0mval\u001b[0m \u001b[0;34m=\u001b[0m \u001b[0mfeval_ret\u001b[0m\u001b[0;34m\u001b[0m\u001b[0;34m\u001b[0m\u001b[0m\n\u001b[0;32m-> 1359\u001b[0;31m                     \u001b[0mres\u001b[0m \u001b[0;34m+=\u001b[0m \u001b[0;34m'\\t%s-%s:%f'\u001b[0m \u001b[0;34m%\u001b[0m \u001b[0;34m(\u001b[0m\u001b[0mevname\u001b[0m\u001b[0;34m,\u001b[0m \u001b[0mname\u001b[0m\u001b[0;34m,\u001b[0m \u001b[0mval\u001b[0m\u001b[0;34m)\u001b[0m\u001b[0;34m\u001b[0m\u001b[0;34m\u001b[0m\u001b[0m\n\u001b[0m\u001b[1;32m   1360\u001b[0m         \u001b[0;32mreturn\u001b[0m \u001b[0mres\u001b[0m\u001b[0;34m\u001b[0m\u001b[0;34m\u001b[0m\u001b[0m\n\u001b[1;32m   1361\u001b[0m \u001b[0;34m\u001b[0m\u001b[0m\n",
            "\u001b[0;31mTypeError\u001b[0m: must be real number, not tuple"
          ]
        }
      ]
    },
    {
      "cell_type": "code",
      "metadata": {
        "colab": {
          "base_uri": "https://localhost:8080/"
        },
        "id": "elOwB46IvUkD",
        "outputId": "4ca446b0-c4f9-4292-df4a-1f49b272950c"
      },
      "source": [
        "from sklearn.preprocessing import OneHotEncoder\n",
        "from scipy.special import softmax as softmax_matrix\n",
        "\n",
        "n_classes = 10\n",
        "eps=10**-10\n",
        "lam = 10.0\n",
        "\n",
        "def softmax(x):\n",
        "    '''Softmax function with x as input vector.'''\n",
        "    e = np.exp(x)\n",
        "    return e / np.sum(e)\n",
        "\n",
        "def sigmoid(x):\n",
        "    '''Sigmoid function with x as input vector.'''\n",
        "    e = 1/(1 + np.exp(-x)) \n",
        "    return e\n",
        "\n",
        "# custom\n",
        "def obj_w_confidence(preds_w_conf, dtrain):\n",
        "    labels = dtrain.get_label().reshape(-1, 1)\n",
        "    labels = OneHotEncoder(sparse=False, categories='auto').fit_transform(labels)\n",
        "    \n",
        "    preds = preds_w_conf[:,:-1]\n",
        "    conf = preds_w_conf[:,-1]\n",
        "    \n",
        "    preds = softmax_matrix(preds, axis=1)\n",
        "    weights = np.tile(sigmoid(conf),[n_classes,1]).T\n",
        "    loss = np.sum(-1.*labels*np.log(preds+eps),axis=1)\n",
        "    \n",
        "    preds_grad = weights*(preds - labels)\n",
        "    conf_grad = loss*sigmoid(conf)*(1-sigmoid(conf)) - lam*sigmoid(-1.*conf)\n",
        "    grad = np.hstack([preds_grad, conf_grad[:,np.newaxis]])\n",
        "\n",
        "    preds_hess = 2.0 * weights * preds * (1.0 - preds)\n",
        "    conf_hess = loss*sigmoid(conf)*(1-sigmoid(conf))*(1-2*sigmoid(conf)) + lam*sigmoid(-1.*conf)*(1-sigmoid(-1.*conf))\n",
        "    hess = np.hstack([preds_hess, conf_hess[:,np.newaxis]])\n",
        "\n",
        "    return grad.flatten(), hess.flatten()\n",
        "\n",
        "dtrain = xgboost.DMatrix(X_train, label=y_train)\n",
        "dval = xgboost.DMatrix(X_val, label=y_val)\n",
        "\n",
        "params = {\n",
        "    'max_depth': 5,                 # the maximum depth of each tree\n",
        "    'eta': 0.5,                     # the training step for each iteration\n",
        "    'eta_decay': 0.9,\n",
        "    'min_eta': 0.05,\n",
        "    'silent': 0,                    # logging mode - quiet\n",
        "    'num_class': n_classes+1,       # the number of classes that exist in this datset\n",
        "    'early_stopping_rounds': 10,\n",
        "    'n_estimators': 5000\n",
        "}  \n",
        "\n",
        "def eval_acc(preds_w_conf, dtrain):\n",
        "    labels = dtrain.get_label()\n",
        "    preds = preds_w_conf[:,:-1]\n",
        "\n",
        "    one_hot_labels = OneHotEncoder(sparse=False, categories='auto').fit_transform(labels.reshape(-1, 1))\n",
        "    preds = softmax_matrix(preds, axis=1)\n",
        "\n",
        "    log_loss = np.mean(np.sum(-1.*one_hot_labels*np.log(preds+eps),axis=1))\n",
        "    conf_loss = -1.*np.mean(np.log(sigmoid(preds_w_conf[:,-1])))\n",
        "    conf_mean = np.mean(sigmoid(preds_w_conf[:,-1]))\n",
        "    print(\"log_loss = \", log_loss)\n",
        "    print(\"conf_loss = \", conf_loss)\n",
        "    print(\"conf_mean = \", conf_mean)\n",
        "\n",
        "    preds = np.argmax(preds,axis=1)\n",
        "    return 'acc', metrics.accuracy_score(labels, preds)\n",
        "\n",
        "results = {}\n",
        "model = xgboost.train(params, dtrain, num_boost_round=50, obj = obj_w_confidence, evals=[(dval, 'val')], evals_result=results, feval=eval_acc)"
      ],
      "execution_count": null,
      "outputs": [
        {
          "output_type": "stream",
          "text": [
            "[01:12:47] WARNING: ../src/learner.cc:541: \n",
            "Parameters: { early_stopping_rounds, eta_decay, min_eta, n_estimators, silent } might not be used.\n",
            "\n",
            "  This may not be accurate due to some parameters are only used in language bindings but\n",
            "  passed down to XGBoost core.  Or some parameters are not used but slip through this\n",
            "  verification. Please open an issue if you find above cases.\n",
            "\n",
            "\n",
            "[01:12:59] WARNING: ../src/learner.cc:1061: Starting in XGBoost 1.3.0, the default evaluation metric used with the objective 'multi:softmax' was changed from 'merror' to 'mlogloss'. Explicitly set eval_metric if you'd like to restore the old behavior.\n",
            "log_loss =  1.0591982041495187\n",
            "conf_loss =  0.25658610463142395\n",
            "conf_mean =  0.7736884\n",
            "[0]\tval-mlogloss:1.19989\tval-acc:0.82091\n",
            "log_loss =  0.7751287179631846\n",
            "conf_loss =  0.1447630375623703\n",
            "conf_mean =  0.86522746\n",
            "[1]\tval-mlogloss:1.00104\tval-acc:0.87189\n",
            "log_loss =  0.604359232932755\n",
            "conf_loss =  0.08428346365690231\n",
            "conf_mean =  0.9191706\n",
            "[2]\tval-mlogloss:0.93947\tval-acc:0.89109\n",
            "log_loss =  0.4894334733147706\n",
            "conf_loss =  0.049911435693502426\n",
            "conf_mean =  0.95131385\n",
            "[3]\tval-mlogloss:0.95823\tval-acc:0.90411\n",
            "log_loss =  0.4105605905547738\n",
            "conf_loss =  0.02984415739774704\n",
            "conf_mean =  0.97059655\n",
            "[4]\tval-mlogloss:1.03873\tval-acc:0.91234\n",
            "log_loss =  0.3548809122950371\n",
            "conf_loss =  0.017947068437933922\n",
            "conf_mean =  0.9822131\n",
            "[5]\tval-mlogloss:1.17129\tval-acc:0.92011\n",
            "log_loss =  0.31038608049659855\n",
            "conf_loss =  0.010829583741724491\n",
            "conf_mean =  0.9892289\n",
            "[6]\tval-mlogloss:1.33982\tval-acc:0.92531\n",
            "log_loss =  0.2794683018361617\n",
            "conf_loss =  0.006548399105668068\n",
            "conf_mean =  0.993473\n",
            "[7]\tval-mlogloss:1.55288\tval-acc:0.93017\n",
            "log_loss =  0.25345810174820943\n",
            "conf_loss =  0.003964763134717941\n",
            "conf_mean =  0.9960432\n",
            "[8]\tval-mlogloss:1.79611\tval-acc:0.93417\n",
            "log_loss =  0.23122448645947236\n",
            "conf_loss =  0.0024025070015341043\n",
            "conf_mean =  0.99760044\n",
            "[9]\tval-mlogloss:2.06063\tval-acc:0.93811\n",
            "log_loss =  0.21411794491932462\n",
            "conf_loss =  0.0014567250618711114\n",
            "conf_mean =  0.9985444\n",
            "[10]\tval-mlogloss:2.36277\tval-acc:0.94177\n"
          ],
          "name": "stdout"
        }
      ]
    },
    {
      "cell_type": "code",
      "metadata": {
        "id": "e-aYLn04xYrl"
      },
      "source": [
        "preds_w_conf = model.predict(dval,output_margin=True)\n",
        "preds = preds_w_conf[:,:-1]\n",
        "conf = preds_w_conf[:,-1]\n",
        "    \n",
        "preds = softmax_matrix(preds, axis=1)\n",
        "conf = sigmoid(conf)"
      ],
      "execution_count": 14,
      "outputs": []
    },
    {
      "cell_type": "code",
      "metadata": {
        "colab": {
          "base_uri": "https://localhost:8080/"
        },
        "id": "4-99UdKMvnSu",
        "outputId": "3b1e7b1d-0ddd-4a31-8df5-3f131ae91b8b"
      },
      "source": [
        "np.argmin(conf)"
      ],
      "execution_count": 17,
      "outputs": [
        {
          "output_type": "execute_result",
          "data": {
            "text/plain": [
              "10407"
            ]
          },
          "metadata": {
            "tags": []
          },
          "execution_count": 17
        }
      ]
    },
    {
      "cell_type": "code",
      "metadata": {
        "id": "LIqsE-J7lD0H"
      },
      "source": [
        "image = X_val[10407]"
      ],
      "execution_count": 24,
      "outputs": []
    },
    {
      "cell_type": "code",
      "metadata": {
        "colab": {
          "base_uri": "https://localhost:8080/"
        },
        "id": "oQOIUrigl4q6",
        "outputId": "dc681cde-6e92-4b0f-c5bc-4231f36b4365"
      },
      "source": [
        "k=25\n",
        "idx = np.argpartition(conf, k)\n",
        "print(idx[:k])"
      ],
      "execution_count": 33,
      "outputs": [
        {
          "output_type": "stream",
          "text": [
            "[ 8938 11611  5958  2622  9238  2753  4620 10407  4203 11335  5231  8047\n",
            "  6733  8010  8338 10649 17154  4998 11025  4039  7600 17420  1636   566\n",
            " 13228]\n"
          ],
          "name": "stdout"
        }
      ]
    },
    {
      "cell_type": "code",
      "metadata": {
        "colab": {
          "base_uri": "https://localhost:8080/"
        },
        "id": "XSYtP9iJmPub",
        "outputId": "ee96caab-7b74-4c07-e133-e344caba6866"
      },
      "source": [
        "np.mean(conf[idx[:k]])"
      ],
      "execution_count": 34,
      "outputs": [
        {
          "output_type": "execute_result",
          "data": {
            "text/plain": [
              "0.94797844"
            ]
          },
          "metadata": {
            "tags": []
          },
          "execution_count": 34
        }
      ]
    },
    {
      "cell_type": "code",
      "metadata": {
        "colab": {
          "base_uri": "https://localhost:8080/",
          "height": 1000
        },
        "id": "swnD0CmZlHzH",
        "outputId": "8fbde39f-264a-4c1a-87a1-d1c60241a0de"
      },
      "source": [
        "from matplotlib import pyplot as plt\n",
        "for i in idx[:k]:\n",
        "  image = X_val[i]\n",
        "  pixels = image.reshape((28, 28))\n",
        "  plt.imshow(pixels, cmap='gray')\n",
        "  plt.show()"
      ],
      "execution_count": 35,
      "outputs": [
        {
          "output_type": "display_data",
          "data": {
            "image/png": "[encoded data removed]",
            "text/plain": [
              "<Figure size 432x288 with 1 Axes>"
            ]
          },
          "metadata": {
            "tags": [],
            "needs_background": "light"
          }
        },
        {
          "output_type": "display_data",
          "data": {
            "image/png": "[encoded data removed]",
            "text/plain": [
              "<Figure size 432x288 with 1 Axes>"
            ]
          },
          "metadata": {
            "tags": [],
            "needs_background": "light"
          }
        },
        {
          "output_type": "display_data",
          "data": {
            "image/png": "[encoded data removed]",
            "text/plain": [
              "<Figure size 432x288 with 1 Axes>"
            ]
          },
          "metadata": {
            "tags": [],
            "needs_background": "light"
          }
        },
        {
          "output_type": "display_data",
          "data": {
            "image/png": "[encoded data removed]",
            "text/plain": [
              "<Figure size 432x288 with 1 Axes>"
            ]
          },
          "metadata": {
            "tags": [],
            "needs_background": "light"
          }
        },
        {
          "output_type": "display_data",
          "data": {
            "image/png": "[encoded data removed]",
            "text/plain": [
              "<Figure size 432x288 with 1 Axes>"
            ]
          },
          "metadata": {
            "tags": [],
            "needs_background": "light"
          }
        },
        {
          "output_type": "display_data",
          "data": {
            "image/png": "[encoded data removed]",
            "text/plain": [
              "<Figure size 432x288 with 1 Axes>"
            ]
          },
          "metadata": {
            "tags": [],
            "needs_background": "light"
          }
        },
        {
          "output_type": "display_data",
          "data": {
            "image/png": "[encoded data removed]",
            "text/plain": [
              "<Figure size 432x288 with 1 Axes>"
            ]
          },
          "metadata": {
            "tags": [],
            "needs_background": "light"
          }
        },
        {
          "output_type": "display_data",
          "data": {
            "image/png": "[encoded data removed]",
            "text/plain": [
              "<Figure size 432x288 with 1 Axes>"
            ]
          },
          "metadata": {
            "tags": [],
            "needs_background": "light"
          }
        },
        {
          "output_type": "display_data",
          "data": {
            "image/png": "[encoded data removed]",
            "text/plain": [
              "<Figure size 432x288 with 1 Axes>"
            ]
          },
          "metadata": {
            "tags": [],
            "needs_background": "light"
          }
        },
        {
          "output_type": "display_data",
          "data": {
            "image/png": "[encoded data removed]",
            "text/plain": [
              "<Figure size 432x288 with 1 Axes>"
            ]
          },
          "metadata": {
            "tags": [],
            "needs_background": "light"
          }
        },
        {
          "output_type": "display_data",
          "data": {
            "image/png": "[encoded data removed]",
            "text/plain": [
              "<Figure size 432x288 with 1 Axes>"
            ]
          },
          "metadata": {
            "tags": [],
            "needs_background": "light"
          }
        },
        {
          "output_type": "display_data",
          "data": {
            "image/png": "[encoded data removed]",
            "text/plain": [
              "<Figure size 432x288 with 1 Axes>"
            ]
          },
          "metadata": {
            "tags": [],
            "needs_background": "light"
          }
        },
        {
          "output_type": "display_data",
          "data": {
            "image/png": "[encoded data removed]",
            "text/plain": [
              "<Figure size 432x288 with 1 Axes>"
            ]
          },
          "metadata": {
            "tags": [],
            "needs_background": "light"
          }
        },
        {
          "output_type": "display_data",
          "data": {
            "image/png": "[encoded data removed]",
            "text/plain": [
              "<Figure size 432x288 with 1 Axes>"
            ]
          },
          "metadata": {
            "tags": [],
            "needs_background": "light"
          }
        },
        {
          "output_type": "display_data",
          "data": {
            "image/png": "[encoded data removed]",
            "text/plain": [
              "<Figure size 432x288 with 1 Axes>"
            ]
          },
          "metadata": {
            "tags": [],
            "needs_background": "light"
          }
        },
        {
          "output_type": "display_data",
          "data": {
            "image/png": "[encoded data removed]",
            "text/plain": [
              "<Figure size 432x288 with 1 Axes>"
            ]
          },
          "metadata": {
            "tags": [],
            "needs_background": "light"
          }
        },
        {
          "output_type": "display_data",
          "data": {
            "image/png": "[encoded data removed]",
            "text/plain": [
              "<Figure size 432x288 with 1 Axes>"
            ]
          },
          "metadata": {
            "tags": [],
            "needs_background": "light"
          }
        },
        {
          "output_type": "display_data",
          "data": {
            "image/png": "[encoded data removed]",
            "text/plain": [
              "<Figure size 432x288 with 1 Axes>"
            ]
          },
          "metadata": {
            "tags": [],
            "needs_background": "light"
          }
        },
        {
          "output_type": "display_data",
          "data": {
            "image/png": "[encoded data removed]",
            "text/plain": [
              "<Figure size 432x288 with 1 Axes>"
            ]
          },
          "metadata": {
            "tags": [],
            "needs_background": "light"
          }
        },
        {
          "output_type": "display_data",
          "data": {
            "image/png": "[encoded data removed]",
            "text/plain": [
              "<Figure size 432x288 with 1 Axes>"
            ]
          },
          "metadata": {
            "tags": [],
            "needs_background": "light"
          }
        },
        {
          "output_type": "display_data",
          "data": {
            "image/png": "[encoded data removed]",
            "text/plain": [
              "<Figure size 432x288 with 1 Axes>"
            ]
          },
          "metadata": {
            "tags": [],
            "needs_background": "light"
          }
        },
        {
          "output_type": "display_data",
          "data": {
            "image/png": "[encoded data removed]",
            "text/plain": [
              "<Figure size 432x288 with 1 Axes>"
            ]
          },
          "metadata": {
            "tags": [],
            "needs_background": "light"
          }
        },
        {
          "output_type": "display_data",
          "data": {
            "image/png": "[encoded data removed]",
            "text/plain": [
              "<Figure size 432x288 with 1 Axes>"
            ]
          },
          "metadata": {
            "tags": [],
            "needs_background": "light"
          }
        },
        {
          "output_type": "display_data",
          "data": {
            "image/png": "[encoded data removed]",
            "text/plain": [
              "<Figure size 432x288 with 1 Axes>"
            ]
          },
          "metadata": {
            "tags": [],
            "needs_background": "light"
          }
        },
        {
          "output_type": "display_data",
          "data": {
            "image/png": "[encoded data removed]",
            "text/plain": [
              "<Figure size 432x288 with 1 Axes>"
            ]
          },
          "metadata": {
            "tags": [],
            "needs_background": "light"
          }
        }
      ]
    },
    {
      "cell_type": "code",
      "metadata": {
        "id": "-rt6s3AHlpkP"
      },
      "source": [
        ""
      ],
      "execution_count": null,
      "outputs": []
    }
  ]
}